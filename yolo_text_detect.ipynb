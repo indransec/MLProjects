{
 "cells": [
  {
   "cell_type": "code",
   "execution_count": null,
   "metadata": {},
   "outputs": [],
   "source": [
    "from keras import backend as K\n",
    "import keras\n",
    "import cv2\n",
    "from Utils import *\n",
    "from sklearn.model_selection import train_test_split\n",
    "from keras.callbacks import ModelCheckpoint\n",
    "from keras.optimizers import Adam\n",
    "from keras.layers import *\n",
    "from keras.applications.mobilenetv2 import MobileNetV2\n",
    "import tensorflow as tf\n",
    "import numpy as np\n",
    "from keras.models import Model\n",
    "from keras.models import model_from_json\n",
    "import matplotlib.pyplot as plt\n",
    "import os"
   ]
  },
  {
   "cell_type": "code",
   "execution_count": null,
   "metadata": {},
   "outputs": [],
   "source": [
    "img_w = 512\n",
    "img_h = 512\n",
    "channels = 3\n",
    "classes = 1\n",
    "info = 5\n",
    "grid_w = 16\n",
    "grid_h = 16"
   ]
  },
  {
   "cell_type": "code",
   "execution_count": null,
   "metadata": {},
   "outputs": [],
   "source": [
    "\n",
    "#import data\n",
    "#X and Y numpy arrays are created using the Prepocess.py file\n",
    "X = np.load('Data/X.npy')\n",
    "Y = np.load('Data/Y.npy')"
   ]
  },
  {
   "cell_type": "code",
   "execution_count": null,
   "metadata": {},
   "outputs": [],
   "source": [
    "print(X.shape , Y.shape)"
   ]
  },
  {
   "cell_type": "code",
   "execution_count": null,
   "metadata": {},
   "outputs": [],
   "source": [
    "\n",
    "X_train , X_val , Y_train , Y_val  = train_test_split(X,Y,train_size = 0.75 , shuffle = True)\n",
    "X = []\n",
    "Y = []"
   ]
  },
  {
   "cell_type": "code",
   "execution_count": null,
   "metadata": {},
   "outputs": [],
   "source": [
    "\n",
    "#define model\n",
    "# input : 512,512,3\n",
    "# output : 16,16,1,5\n",
    "\n",
    "\n",
    "\n",
    "def save_model(model):\n",
    "    model_json = model.to_json()\n",
    "    with open(\"model/text_detect_model.json\", \"w\") as json_file:\n",
    "        json_file.write(model_json)\n",
    "\n",
    "        \n",
    "        \n",
    "def load_model(strr):        \n",
    "    json_file = open(strr, 'r')\n",
    "    loaded_model_json = json_file.read()\n",
    "    json_file.close()\n",
    "    loaded_model = model_from_json(loaded_model_json)\n",
    "    return loaded_model\n",
    "    \n",
    "\n",
    "    \n",
    "    \n",
    "def yolo_model(input_shape):\n",
    "    \n",
    "    \n",
    "    inp = Input(input_shape)\n",
    "   \n",
    "    model = MobileNetV2( input_tensor= inp , include_top=False, weights='imagenet')\n",
    "    last_layer = model.output\n",
    "    \n",
    "    conv = Conv2D(512,(3,3) , activation='relu' , padding='same')(last_layer)\n",
    "    conv = Dropout(0.4)(conv)\n",
    "    bn = BatchNormalization()(conv)\n",
    "    lr = LeakyReLU(alpha=0.1)(bn)\n",
    "    \n",
    "    \n",
    "    conv = Conv2D(128,(3,3) , activation='relu' , padding='same')(lr)\n",
    "    conv = Dropout(0.4)(conv)\n",
    "    bn = BatchNormalization()(conv)\n",
    "    lr = LeakyReLU(alpha=0.1)(bn)\n",
    "    \n",
    "    \n",
    "    conv = Conv2D(5,(3,3) , activation='relu' , padding='same')(lr)\n",
    "    \n",
    "    final = Reshape((grid_h,grid_w,classes,info))(conv)\n",
    "    \n",
    "    model = Model(inp,final)\n",
    "    \n",
    "    return model"
   ]
  },
  {
   "cell_type": "code",
   "execution_count": null,
   "metadata": {},
   "outputs": [],
   "source": [
    "#define utils\n",
    "\n",
    "#optimizer\n",
    "opt = Adam(lr=0.0001, beta_1=0.9, beta_2=0.999, epsilon=1e-08, decay=0.0)\n",
    "\n",
    "#checkpoint\n",
    "checkpoint = ModelCheckpoint('model/text_detect.h5', monitor='val_loss', verbose=1, save_best_only=True, mode='min',period=1)"
   ]
  },
  {
   "cell_type": "code",
   "execution_count": null,
   "metadata": {},
   "outputs": [],
   "source": [
    "#define loss function\n",
    "def yolo_loss_func(y_true,y_pred):\n",
    "    # y_true : 16,16,1,5\n",
    "    # y_pred : 16,16,1,5\n",
    "    l_coords = 5.0\n",
    "    l_noob = 0.5\n",
    "    coords = y_true[:,:,:,:,0] * l_coords\n",
    "    noobs = (-1*(y_true[:,:,:,:,0] - 1)*l_noob)\n",
    "    p_pred = y_pred[:,:,:,:,0]\n",
    "    p_true = y_true[:,:,:,:,0]\n",
    "    x_true = y_true[:,:,:,:,1]\n",
    "    x_pred = y_pred[:,:,:,:,1]\n",
    "    yy_true = y_true[:,:,:,:,2]\n",
    "    yy_pred = y_pred[:,:,:,:,2]\n",
    "    w_true = y_true[:,:,:,:,3]\n",
    "    w_pred = y_pred[:,:,:,:,3]\n",
    "    h_true = y_true[:,:,:,:,4]\n",
    "    h_pred = y_pred[:,:,:,:,4]\n",
    "    \n",
    "    p_loss_absent = K.sum(K.square(p_pred - p_true)*noobs)\n",
    "    p_loss_present = K.sum(K.square(p_pred - p_true))\n",
    "    x_loss = K.sum(K.square(x_pred - x_true)*coords)\n",
    "    yy_loss = K.sum(K.square(yy_pred - yy_true)*coords)\n",
    "    xy_loss = x_loss + yy_loss\n",
    "    w_loss = K.sum(K.square(K.sqrt(w_pred) - K.sqrt(w_true))*coords)\n",
    "    h_loss = K.sum(K.square(K.sqrt(h_pred) - K.sqrt(h_true))*coords)\n",
    "    wh_loss = w_loss + h_loss\n",
    "    \n",
    "    loss = p_loss_absent + p_loss_present + xy_loss + wh_loss\n",
    "    \n",
    "    return loss"
   ]
  },
  {
   "cell_type": "code",
   "execution_count": null,
   "metadata": {},
   "outputs": [],
   "source": [
    "#load and save model\n",
    "input_size = (img_h,img_w,channels)\n",
    "\n",
    "model = yolo_model(input_size)\n",
    "\n",
    "print(model.summary())\n",
    "\n",
    "save_model(model)"
   ]
  },
  {
   "cell_type": "code",
   "execution_count": null,
   "metadata": {},
   "outputs": [],
   "source": [
    "model.load_weights('model/text_detect.h5')"
   ]
  },
  {
   "cell_type": "code",
   "execution_count": null,
   "metadata": {},
   "outputs": [],
   "source": [
    "\n",
    "model.compile(loss=yolo_loss_func , optimizer=opt , metrics = ['accuracy'])"
   ]
  },
  {
   "cell_type": "code",
   "execution_count": null,
   "metadata": {},
   "outputs": [],
   "source": [
    "\n",
    "hist = model.fit(X_train ,Y_train ,epochs= 30 ,batch_size = 4 , callbacks=[checkpoint] , validation_data=(X_val,Y_val))"
   ]
  },
  {
   "cell_type": "code",
   "execution_count": null,
   "metadata": {},
   "outputs": [],
   "source": [
    "\n",
    "model.save_weights('model/text_detect.h5')"
   ]
  },
  {
   "cell_type": "code",
   "execution_count": null,
   "metadata": {},
   "outputs": [],
   "source": [
    "\n",
    "model = load_model('model/text_detect_model.json')\n",
    "model.load_weights('model/text_detect.h5')"
   ]
  },
  {
   "cell_type": "code",
   "execution_count": null,
   "metadata": {},
   "outputs": [],
   "source": [
    "def predict_func(model , inp , iou , name):\n",
    "\n",
    "    ans = model.predict(inp)\n",
    "    \n",
    "    #np.save('Results/ans.npy',ans)\n",
    "    boxes = decode(ans[0] , img_w , img_h , iou)\n",
    "    \n",
    "    img = ((inp + 1)/2)\n",
    "    img = img[0]\n",
    "    #plt.imshow(img)\n",
    "    #plt.show()\n",
    "\n",
    "\n",
    "    for i in boxes:\n",
    "\n",
    "        i = [int(x) for x in i]\n",
    "\n",
    "        img = cv2.rectangle(img , (i[0] ,i[1]) , (i[2] , i[3]) , color = (0,255,0) , thickness = 2)\n",
    "\n",
    "    plt.imshow(img)\n",
    "    plt.show()\n",
    "    \n",
    "    cv2.imwrite(os.path.join('Results' , str(name) + '.jpg') , img*255.0)"
   ]
  },
  {
   "cell_type": "code",
   "execution_count": null,
   "metadata": {},
   "outputs": [],
   "source": [
    "rand = np.random.randint(0,X_val.shape[0], size = 5)\n",
    "\n",
    "for i in rand:\n",
    "    \n",
    "    predict_func(model , X_val[i:i+1] , 0.5, i)"
   ]
  },
  {
   "cell_type": "code",
   "execution_count": null,
   "metadata": {},
   "outputs": [],
   "source": [
    "\n",
    "for i in os.listdir('Test'):\n",
    "    img = cv2.imread(os.path.join('Test',i))\n",
    "    img = cv2.resize(img,(512,512))\n",
    "    img = (img - 127.5)/127.5\n",
    "    predict_func(model , np.expand_dims(img,axis= 0) , 0.5 , 'sample')"
   ]
  }
 ],
 "metadata": {
  "kernelspec": {
   "display_name": "Python 3",
   "language": "python",
   "name": "python3"
  },
  "language_info": {
   "codemirror_mode": {
    "name": "ipython",
    "version": 3
   },
   "file_extension": ".py",
   "mimetype": "text/x-python",
   "name": "python",
   "nbconvert_exporter": "python",
   "pygments_lexer": "ipython3",
   "version": "3.7.6"
  }
 },
 "nbformat": 4,
 "nbformat_minor": 4
}
