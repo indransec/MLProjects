{
 "cells": [
  {
   "cell_type": "code",
   "execution_count": 10,
   "metadata": {},
   "outputs": [],
   "source": [
    "import numpy as np\n",
    "import pandas as pd\n",
    "import cv2\n",
    "import os\n",
    "import tqdm\n",
    "from scipy.io import loadmat\n",
    "import matplotlib.pyplot as plt\n",
    "\n",
    "\n",
    "\n"
   ]
  },
  {
   "cell_type": "code",
   "execution_count": 11,
   "metadata": {},
   "outputs": [
    {
     "name": "stderr",
     "output_type": "stream",
     "text": [
      "100%|██████████| 461/461 [00:00<00:00, 66037.37it/s]\n"
     ]
    }
   ],
   "source": [
    "image_path = 'Data/images/'\n",
    "gt_path = 'Data/GT/'\n",
    "train_image_paths = []\n",
    "train_gt_paths = []\n",
    "\n",
    "\n",
    "for new_file in tqdm.tqdm(os.listdir(gt_path)):\n",
    "    \n",
    "    name_split = new_file.split('.')\n",
    "    image_name = name_split[0][3:]\n",
    "    image_name = image_name + '.jpg'\n",
    "    \n",
    "    if 'gt' in new_file:\n",
    "        image_name = name_split[0][3:]\n",
    "        image_name = image_name + '.jpg'\n",
    "    \n",
    "    path_img = os.path.join(image_path , image_name)\n",
    "    train_image_paths.append(path_img)\n",
    "    train_gt_paths.append(os.path.join(gt_path , new_file))\n",
    "\n",
    "\n",
    "\n",
    "X_final = []\n",
    "Y_final = []\n",
    "grid_h = 16\n",
    "grid_w = 16\n",
    "img_w = 512\n",
    "img_h = 512\n",
    "\n"
   ]
  },
  {
   "cell_type": "code",
   "execution_count": 14,
   "metadata": {
    "scrolled": true
   },
   "outputs": [
    {
     "name": "stderr",
     "output_type": "stream",
     "text": [
      "  1%|▏         | 6/461 [00:00<00:08, 53.92it/s]"
     ]
    },
    {
     "name": "stdout",
     "output_type": "stream",
     "text": [
      "Data/images/100.jpg\n",
      "['158 128 411 181 \"Footpath\"', '443 128 501 169 \"To\"', '64 200 363 243 \"Colchester\"', '394 199 487 239 \"and\"', '72 271 382 312 \"Greenstead\"', '']\n",
      "Data/images/101.jpg\n",
      "['176 189 456 274 \"DELL\"', '']\n",
      "Data/images/102.jpg\n",
      "['602 292 610 302 \"R\"', '27 467 128 479 \"FOSTER\\'S\"', '279 468 380 479 \"FOSTER\\'S\"', '524 461 621 478 \"FOSTER\\'S\"', '272 120 415 256 \"O\"', '321 157 363 215 \"F\"', '82 284 577 368 \"FOSTER\\'S\"', '']\n",
      "Data/images/103.jpg\n",
      "['112 111 332 143 \"STIRLING\"', '350 107 524 138 \"CASTLE\"', '68 281 298 315 \"ARGYLL\\'S\"', '318 275 573 312 \"LODGINGS\"', '']\n",
      "Data/images/104.jpg\n",
      "['86 33 376 138 \"GOOD\"', '79 155 217 202 \"HOME\"', '242 157 382 205 \"MADE\"', '87 221 372 324 \"FOOD\"', '74 375 155 405 \"CASK\"', '170 375 387 405 \"CONDITIONED\"', '129 419 329 491 \"ALES\"', '100 540 356 598 \"GARDEN\"', '']\n",
      "Data/images/105.jpg\n",
      "['425 0 934 129 \"SCOTTISH\"', '400 430 882 527 \"NATIONAL\"', '389 837 783 941 \"GALLERY\"', '376 1158 789 1274 \"MODERN\"', '']\n"
     ]
    },
    {
     "name": "stderr",
     "output_type": "stream",
     "text": [
      "100%|██████████| 461/461 [00:12<00:00, 37.19it/s]\n"
     ]
    },
    {
     "ename": "FileNotFoundError",
     "evalue": "[Errno 2] No such file or directory: 'Data1/X.npy'",
     "output_type": "error",
     "traceback": [
      "\u001b[1;31m---------------------------------------------------------------------------\u001b[0m",
      "\u001b[1;31mFileNotFoundError\u001b[0m                         Traceback (most recent call last)",
      "\u001b[1;32m<ipython-input-14-7dac8ebd5ce2>\u001b[0m in \u001b[0;36m<module>\u001b[1;34m\u001b[0m\n\u001b[0;32m     73\u001b[0m \u001b[0mX\u001b[0m \u001b[1;33m=\u001b[0m \u001b[1;33m(\u001b[0m\u001b[0mX\u001b[0m \u001b[1;33m-\u001b[0m \u001b[1;36m127.5\u001b[0m\u001b[1;33m)\u001b[0m\u001b[1;33m/\u001b[0m\u001b[1;36m127.5\u001b[0m\u001b[1;33m\u001b[0m\u001b[1;33m\u001b[0m\u001b[0m\n\u001b[0;32m     74\u001b[0m \u001b[1;33m\u001b[0m\u001b[0m\n\u001b[1;32m---> 75\u001b[1;33m \u001b[0mnp\u001b[0m\u001b[1;33m.\u001b[0m\u001b[0msave\u001b[0m\u001b[1;33m(\u001b[0m\u001b[1;34m'Data1/X.npy'\u001b[0m\u001b[1;33m,\u001b[0m\u001b[0mX\u001b[0m\u001b[1;33m)\u001b[0m\u001b[1;33m\u001b[0m\u001b[1;33m\u001b[0m\u001b[0m\n\u001b[0m\u001b[0;32m     76\u001b[0m \u001b[0mnp\u001b[0m\u001b[1;33m.\u001b[0m\u001b[0msave\u001b[0m\u001b[1;33m(\u001b[0m\u001b[1;34m'Data1/Y.npy'\u001b[0m\u001b[1;33m,\u001b[0m\u001b[0mY\u001b[0m\u001b[1;33m)\u001b[0m\u001b[1;33m\u001b[0m\u001b[1;33m\u001b[0m\u001b[0m\n\u001b[0;32m     77\u001b[0m \u001b[1;33m\u001b[0m\u001b[0m\n",
      "\u001b[1;32m<__array_function__ internals>\u001b[0m in \u001b[0;36msave\u001b[1;34m(*args, **kwargs)\u001b[0m\n",
      "\u001b[1;32m~\\anaconda3\\lib\\site-packages\\numpy\\lib\\npyio.py\u001b[0m in \u001b[0;36msave\u001b[1;34m(file, arr, allow_pickle, fix_imports)\u001b[0m\n\u001b[0;32m    539\u001b[0m         \u001b[1;32mif\u001b[0m \u001b[1;32mnot\u001b[0m \u001b[0mfile\u001b[0m\u001b[1;33m.\u001b[0m\u001b[0mendswith\u001b[0m\u001b[1;33m(\u001b[0m\u001b[1;34m'.npy'\u001b[0m\u001b[1;33m)\u001b[0m\u001b[1;33m:\u001b[0m\u001b[1;33m\u001b[0m\u001b[1;33m\u001b[0m\u001b[0m\n\u001b[0;32m    540\u001b[0m             \u001b[0mfile\u001b[0m \u001b[1;33m=\u001b[0m \u001b[0mfile\u001b[0m \u001b[1;33m+\u001b[0m \u001b[1;34m'.npy'\u001b[0m\u001b[1;33m\u001b[0m\u001b[1;33m\u001b[0m\u001b[0m\n\u001b[1;32m--> 541\u001b[1;33m         \u001b[0mfid\u001b[0m \u001b[1;33m=\u001b[0m \u001b[0mopen\u001b[0m\u001b[1;33m(\u001b[0m\u001b[0mfile\u001b[0m\u001b[1;33m,\u001b[0m \u001b[1;34m\"wb\"\u001b[0m\u001b[1;33m)\u001b[0m\u001b[1;33m\u001b[0m\u001b[1;33m\u001b[0m\u001b[0m\n\u001b[0m\u001b[0;32m    542\u001b[0m         \u001b[0mown_fid\u001b[0m \u001b[1;33m=\u001b[0m \u001b[1;32mTrue\u001b[0m\u001b[1;33m\u001b[0m\u001b[1;33m\u001b[0m\u001b[0m\n\u001b[0;32m    543\u001b[0m \u001b[1;33m\u001b[0m\u001b[0m\n",
      "\u001b[1;31mFileNotFoundError\u001b[0m: [Errno 2] No such file or directory: 'Data1/X.npy'"
     ]
    }
   ],
   "source": [
    "for z in tqdm.tqdm(range(len(train_image_paths))):\n",
    "    \n",
    "    new_file = train_image_paths[z]\n",
    "    if z<6:\n",
    "        print(new_file)\n",
    "    x = cv2.imread(train_image_paths[z])\n",
    "    x_sl = 512/x.shape[1]\n",
    "    y_sl = 512/x.shape[0]\n",
    "    \n",
    "    img = cv2.resize(x,(512,512))\n",
    "    \n",
    "    \n",
    "    X_final.append(img)\n",
    "    \n",
    "    #plt.imshow(cv2.imread(new_file))\n",
    "    #plt.show()\n",
    "    \n",
    "    i = \" \"\n",
    "    \n",
    "    if 'img' in new_file:\n",
    "        i = \", \"\n",
    "    \n",
    "    Y = np.zeros((grid_h,grid_w,1,5))\n",
    "    \n",
    "    file = train_gt_paths[z]\n",
    "    name = open(file , 'r')\n",
    "    data = name.read()\n",
    "    data = data.split(\"\\n\")\n",
    "    data = data[:-1]\n",
    "    for li in data:\n",
    "        temp_list = []\n",
    "        file_data = li.split(i)\n",
    "        strr = file_data[4]\n",
    "        bb = file_data[:4]\n",
    "        \n",
    "        xmin = int(bb[0])*x_sl\n",
    "        xmax = int(bb[2])*x_sl\n",
    "        ymin = int(bb[1])*y_sl\n",
    "        ymax = int(bb[3])*y_sl\n",
    "        \n",
    "        #te = cv2.rectangle(img,(int(xmin),int(ymin)),(int(xmax),int(ymax)) , color = (0,255,0))\n",
    "        \n",
    "        w = (xmax - xmin)/img_w\n",
    "        h = (ymax - ymin)/img_h\n",
    "        \n",
    "        x = ((xmax + xmin)/2)/img_w\n",
    "        y = ((ymax + ymin)/2)/img_h\n",
    "        x = x * grid_w\n",
    "        y = y * grid_h\n",
    "        \n",
    "        Y[int(y),int(x),0,0] = 1\n",
    "        Y[int(y),int(x),0,1] = x - int(x)\n",
    "        Y[int(y),int(x),0,2] = y - int(y)\n",
    "        Y[int(y),int(x),0,3] = w\n",
    "        Y[int(y),int(x),0,4] = h\n",
    "        \n",
    "    #plt.imshow(te)\n",
    "    #plt.show()\n",
    "    \n",
    "    Y_final.append(Y)\n",
    "    \n",
    "\n",
    "\n",
    "\n",
    "\n",
    "X = np.array(X_final)\n",
    "X_final = []\n",
    "Y = np.array(Y_final)\n",
    "Y_final = []\n",
    "\n",
    "X = (X - 127.5)/127.5\n",
    "\n",
    "np.save('Data1/X.npy',X)\n",
    "np.save('Data1/Y.npy',Y)\n",
    "    "
   ]
  },
  {
   "cell_type": "code",
   "execution_count": null,
   "metadata": {},
   "outputs": [],
   "source": []
  }
 ],
 "metadata": {
  "kernelspec": {
   "display_name": "Python 3",
   "language": "python",
   "name": "python3"
  },
  "language_info": {
   "codemirror_mode": {
    "name": "ipython",
    "version": 3
   },
   "file_extension": ".py",
   "mimetype": "text/x-python",
   "name": "python",
   "nbconvert_exporter": "python",
   "pygments_lexer": "ipython3",
   "version": "3.7.6"
  }
 },
 "nbformat": 4,
 "nbformat_minor": 4
}
